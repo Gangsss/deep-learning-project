{
 "cells": [
  {
   "cell_type": "code",
   "execution_count": 1,
   "id": "20e24a78",
   "metadata": {},
   "outputs": [
    {
     "name": "stdout",
     "output_type": "stream",
     "text": [
      "Requirement already satisfied: sentence-transformers in c:\\users\\user\\anaconda3\\envs\\pytorch\\lib\\site-packages (2.2.0)\n",
      "Requirement already satisfied: torchvision in c:\\users\\user\\anaconda3\\envs\\pytorch\\lib\\site-packages (from sentence-transformers) (0.11.3)\n",
      "Requirement already satisfied: huggingface-hub in c:\\users\\user\\anaconda3\\envs\\pytorch\\lib\\site-packages (from sentence-transformers) (0.6.0)\n",
      "Requirement already satisfied: scikit-learn in c:\\users\\user\\anaconda3\\envs\\pytorch\\lib\\site-packages (from sentence-transformers) (1.0.2)\n",
      "Requirement already satisfied: transformers<5.0.0,>=4.6.0 in c:\\users\\user\\anaconda3\\envs\\pytorch\\lib\\site-packages (from sentence-transformers) (4.19.2)\n",
      "Requirement already satisfied: torch>=1.6.0 in c:\\users\\user\\anaconda3\\envs\\pytorch\\lib\\site-packages (from sentence-transformers) (1.10.2)\n",
      "Requirement already satisfied: numpy in c:\\users\\user\\anaconda3\\envs\\pytorch\\lib\\site-packages (from sentence-transformers) (1.22.3)\n",
      "Requirement already satisfied: scipy in c:\\users\\user\\anaconda3\\envs\\pytorch\\lib\\site-packages (from sentence-transformers) (1.8.0)\n",
      "Requirement already satisfied: sentencepiece in c:\\users\\user\\anaconda3\\envs\\pytorch\\lib\\site-packages (from sentence-transformers) (0.1.96)\n",
      "Requirement already satisfied: tqdm in c:\\users\\user\\anaconda3\\envs\\pytorch\\lib\\site-packages (from sentence-transformers) (4.64.0)\n",
      "Requirement already satisfied: nltk in c:\\users\\user\\anaconda3\\envs\\pytorch\\lib\\site-packages (from sentence-transformers) (3.7)\n",
      "Requirement already satisfied: typing_extensions in c:\\users\\user\\anaconda3\\envs\\pytorch\\lib\\site-packages (from torch>=1.6.0->sentence-transformers) (3.10.0.2)\n",
      "Requirement already satisfied: tokenizers!=0.11.3,<0.13,>=0.11.1 in c:\\users\\user\\anaconda3\\envs\\pytorch\\lib\\site-packages (from transformers<5.0.0,>=4.6.0->sentence-transformers) (0.12.1)\n",
      "Requirement already satisfied: packaging>=20.0 in c:\\users\\user\\anaconda3\\envs\\pytorch\\lib\\site-packages (from transformers<5.0.0,>=4.6.0->sentence-transformers) (21.3)\n",
      "Requirement already satisfied: filelock in c:\\users\\user\\anaconda3\\envs\\pytorch\\lib\\site-packages (from transformers<5.0.0,>=4.6.0->sentence-transformers) (3.7.0)\n",
      "Requirement already satisfied: regex!=2019.12.17 in c:\\users\\user\\anaconda3\\envs\\pytorch\\lib\\site-packages (from transformers<5.0.0,>=4.6.0->sentence-transformers) (2022.4.24)\n",
      "Requirement already satisfied: pyyaml>=5.1 in c:\\users\\user\\anaconda3\\envs\\pytorch\\lib\\site-packages (from transformers<5.0.0,>=4.6.0->sentence-transformers) (6.0)\n",
      "Requirement already satisfied: requests in c:\\users\\user\\anaconda3\\envs\\pytorch\\lib\\site-packages (from transformers<5.0.0,>=4.6.0->sentence-transformers) (2.27.1)\n",
      "Requirement already satisfied: pyparsing!=3.0.5,>=2.0.2 in c:\\users\\user\\anaconda3\\envs\\pytorch\\lib\\site-packages (from packaging>=20.0->transformers<5.0.0,>=4.6.0->sentence-transformers) (3.0.7)\n",
      "Requirement already satisfied: colorama in c:\\users\\user\\anaconda3\\envs\\pytorch\\lib\\site-packages (from tqdm->sentence-transformers) (0.4.4)\n",
      "Requirement already satisfied: joblib in c:\\users\\user\\anaconda3\\envs\\pytorch\\lib\\site-packages (from nltk->sentence-transformers) (1.1.0)\n",
      "Requirement already satisfied: click in c:\\users\\user\\anaconda3\\envs\\pytorch\\lib\\site-packages (from nltk->sentence-transformers) (8.1.3)\n",
      "Requirement already satisfied: charset-normalizer~=2.0.0 in c:\\users\\user\\anaconda3\\envs\\pytorch\\lib\\site-packages (from requests->transformers<5.0.0,>=4.6.0->sentence-transformers) (2.0.12)\n",
      "Requirement already satisfied: certifi>=2017.4.17 in c:\\users\\user\\anaconda3\\envs\\pytorch\\lib\\site-packages (from requests->transformers<5.0.0,>=4.6.0->sentence-transformers) (2021.10.8)\n",
      "Requirement already satisfied: idna<4,>=2.5 in c:\\users\\user\\anaconda3\\envs\\pytorch\\lib\\site-packages (from requests->transformers<5.0.0,>=4.6.0->sentence-transformers) (3.3)\n",
      "Requirement already satisfied: urllib3<1.27,>=1.21.1 in c:\\users\\user\\anaconda3\\envs\\pytorch\\lib\\site-packages (from requests->transformers<5.0.0,>=4.6.0->sentence-transformers) (1.26.9)\n",
      "Requirement already satisfied: threadpoolctl>=2.0.0 in c:\\users\\user\\anaconda3\\envs\\pytorch\\lib\\site-packages (from scikit-learn->sentence-transformers) (3.1.0)\n",
      "Requirement already satisfied: pillow!=8.3.0,>=5.3.0 in c:\\users\\user\\anaconda3\\envs\\pytorch\\lib\\site-packages (from torchvision->sentence-transformers) (9.0.1)\n"
     ]
    }
   ],
   "source": [
    "!pip install sentence-transformers"
   ]
  },
  {
   "cell_type": "code",
   "execution_count": 2,
   "id": "15ab13ca",
   "metadata": {},
   "outputs": [
    {
     "name": "stderr",
     "output_type": "stream",
     "text": [
      "C:\\Users\\user\\anaconda3\\envs\\pytorch\\lib\\site-packages\\tqdm\\auto.py:22: TqdmWarning: IProgress not found. Please update jupyter and ipywidgets. See https://ipywidgets.readthedocs.io/en/stable/user_install.html\n",
      "  from .autonotebook import tqdm as notebook_tqdm\n"
     ]
    },
    {
     "data": {
      "text/plain": [
       "True"
      ]
     },
     "execution_count": 2,
     "metadata": {},
     "output_type": "execute_result"
    }
   ],
   "source": [
    "import torch\n",
    "torch.cuda.is_available()"
   ]
  },
  {
   "cell_type": "code",
   "execution_count": 3,
   "id": "7bf73812",
   "metadata": {},
   "outputs": [
    {
     "name": "stderr",
     "output_type": "stream",
     "text": [
      "Reusing dataset tweet_eval (C:\\Users\\user\\.cache\\huggingface\\datasets\\tweet_eval\\sentiment\\1.1.0\\12aee5282b8784f3e95459466db4cdf45c6bf49719c25cdb0743d71ed0410343)\n",
      "100%|██████████| 3/3 [00:00<00:00, 752.43it/s]\n"
     ]
    }
   ],
   "source": [
    "from datasets import load_dataset\n",
    "import torch\n",
    "from torch.utils.data import Dataset, DataLoader\n",
    "\n",
    "dataset = load_dataset(\"tweet_eval\", \"sentiment\")"
   ]
  },
  {
   "cell_type": "code",
   "execution_count": 4,
   "id": "1f58338a",
   "metadata": {},
   "outputs": [],
   "source": [
    "import datasets\n",
    "import random\n",
    "import pandas as pd\n",
    "from IPython.display import display, HTML\n",
    "\n",
    "# show data\n",
    "def show_random_elements(dataset, num_examples=20):\n",
    "    assert num_examples <= len(dataset), \"Can't pick more elements than there are in the dataset.\"\n",
    "    picks = []\n",
    "    for _ in range(num_examples):\n",
    "        pick = random.randint(0, len(dataset)-1)\n",
    "        while pick in picks:\n",
    "            pick = random.randint(0, len(dataset)-1)\n",
    "        picks.append(pick)\n",
    "    \n",
    "    df = pd.DataFrame(dataset[picks])\n",
    "    for column, typ in dataset.features.items():\n",
    "        if isinstance(typ, datasets.ClassLabel):\n",
    "            df[column] = df[column].transform(lambda i: typ.names[i])\n",
    "    display(HTML(df.to_html()))"
   ]
  },
  {
   "cell_type": "code",
   "execution_count": 5,
   "id": "18640e25",
   "metadata": {
    "scrolled": true
   },
   "outputs": [
    {
     "data": {
      "text/html": [
       "<table border=\"1\" class=\"dataframe\">\n",
       "  <thead>\n",
       "    <tr style=\"text-align: right;\">\n",
       "      <th></th>\n",
       "      <th>text</th>\n",
       "      <th>label</th>\n",
       "    </tr>\n",
       "  </thead>\n",
       "  <tbody>\n",
       "    <tr>\n",
       "      <th>0</th>\n",
       "      <td>Dustin Johnson must have celebrated a bit too hard and too prematurely on Sat night. He finishes at -4 dropping 6 shots in the final 2 days.</td>\n",
       "      <td>neutral</td>\n",
       "    </tr>\n",
       "    <tr>\n",
       "      <th>1</th>\n",
       "      <td>@user Deathly Hallows Part II now become the 3rd High Grossing Movie in Worldwide All of time with $1.133M . Absolutely Amazing !</td>\n",
       "      <td>positive</td>\n",
       "    </tr>\n",
       "    <tr>\n",
       "      <th>2</th>\n",
       "      <td>Meanwhile David Price 2-0 with ERA under 1....</td>\n",
       "      <td>neutral</td>\n",
       "    </tr>\n",
       "    <tr>\n",
       "      <th>3</th>\n",
       "      <td>@user Ya our game in hand is v Bolton!!!!!. 6 pointer ha!..Playing Norwich last game of the season!.#hopeless</td>\n",
       "      <td>positive</td>\n",
       "    </tr>\n",
       "    <tr>\n",
       "      <th>4</th>\n",
       "      <td>@user David price done the same thing. And got his cunt kicked in a 2nd time</td>\n",
       "      <td>negative</td>\n",
       "    </tr>\n",
       "    <tr>\n",
       "      <th>5</th>\n",
       "      <td>Patriots fans\\u002c Patriots Fourth And Two returns Friday at Noon EST. I hope you can take a listen.</td>\n",
       "      <td>neutral</td>\n",
       "    </tr>\n",
       "    <tr>\n",
       "      <th>6</th>\n",
       "      <td>@user On the holy occasion OF EID Here is wishing that May the blessing of Allah Light up your way And lead u to eternal</td>\n",
       "      <td>positive</td>\n",
       "    </tr>\n",
       "    <tr>\n",
       "      <th>7</th>\n",
       "      <td>Okay, so anyone going to come see Jurassic World with me in IMAX?</td>\n",
       "      <td>positive</td>\n",
       "    </tr>\n",
       "    <tr>\n",
       "      <th>8</th>\n",
       "      <td>The announcement ... was made on social media platform Google+ in April, with the news quickly spreading to other channels today.</td>\n",
       "      <td>neutral</td>\n",
       "    </tr>\n",
       "    <tr>\n",
       "      <th>9</th>\n",
       "      <td>\"We've seen all of the fights on recent Saturday nights...Rousey, Dana White, etc...but the real fight could be tonight in Vegas! #GOPDebate\"</td>\n",
       "      <td>positive</td>\n",
       "    </tr>\n",
       "    <tr>\n",
       "      <th>10</th>\n",
       "      <td>Eating doritos w/ tapatio and watching Family Guy to end the night(;</td>\n",
       "      <td>neutral</td>\n",
       "    </tr>\n",
       "    <tr>\n",
       "      <th>11</th>\n",
       "      <td>Younique officially launches in the UK on 1 November.  Be one of the first to get your 3d fibre lashes.</td>\n",
       "      <td>neutral</td>\n",
       "    </tr>\n",
       "    <tr>\n",
       "      <th>12</th>\n",
       "      <td>\"After taking big hit in the polls, Scott Walker was last seen studying the 14th amendment. Hope he gets it right this time. #tcot\"</td>\n",
       "      <td>neutral</td>\n",
       "    </tr>\n",
       "    <tr>\n",
       "      <th>13</th>\n",
       "      <td>I think the boys may have thinking about Zayn at the #OTRAPhiladelphia when they sang Fresh Prince Bel Air</td>\n",
       "      <td>neutral</td>\n",
       "    </tr>\n",
       "    <tr>\n",
       "      <th>14</th>\n",
       "      <td>So, I've only started watching Game of Thrones season 5 today. I should be done with it by Monday. In between naps.</td>\n",
       "      <td>neutral</td>\n",
       "    </tr>\n",
       "    <tr>\n",
       "      <th>15</th>\n",
       "      <td>All my thoughts and prayers go out to Sergei Bubka Jr. who fell from the 3rd-floor-apartment in Paris.</td>\n",
       "      <td>negative</td>\n",
       "    </tr>\n",
       "    <tr>\n",
       "      <th>16</th>\n",
       "      <td>STING returns to WWE MONDAY NIGHT RAW!!! IT'S SHOWTIME!!! Seth Rollins that's a challenge for the WWE WORLD...</td>\n",
       "      <td>positive</td>\n",
       "    </tr>\n",
       "    <tr>\n",
       "      <th>17</th>\n",
       "      <td>\"Vincent Jackson limited in Monday practice estimates, fantasy value just fine for Thursday</td>\n",
       "      <td>positive</td>\n",
       "    </tr>\n",
       "    <tr>\n",
       "      <th>18</th>\n",
       "      <td>@user I would find out tomorrow morning. so you should have a back up plan just in Cahsee's</td>\n",
       "      <td>neutral</td>\n",
       "    </tr>\n",
       "    <tr>\n",
       "      <th>19</th>\n",
       "      <td>@user You get it boy! Hey\\u002c thanks for the champagne &amp; nummies...Very much appreicated &amp; glad you &amp; Laurin made it sunday..THANKS POOF</td>\n",
       "      <td>positive</td>\n",
       "    </tr>\n",
       "  </tbody>\n",
       "</table>"
      ],
      "text/plain": [
       "<IPython.core.display.HTML object>"
      ]
     },
     "metadata": {},
     "output_type": "display_data"
    }
   ],
   "source": [
    "show_random_elements(dataset['train'])"
   ]
  },
  {
   "cell_type": "code",
   "execution_count": 6,
   "id": "32ac5611",
   "metadata": {},
   "outputs": [
    {
     "data": {
      "text/plain": [
       "Dataset({\n",
       "    features: ['text', 'label'],\n",
       "    num_rows: 2000\n",
       "})"
      ]
     },
     "execution_count": 6,
     "metadata": {},
     "output_type": "execute_result"
    }
   ],
   "source": [
    "dataset['train']\n",
    "dataset['test']\n",
    "dataset['validation']"
   ]
  },
  {
   "cell_type": "code",
   "execution_count": 7,
   "id": "a92fc2be",
   "metadata": {},
   "outputs": [
    {
     "name": "stdout",
     "output_type": "stream",
     "text": [
      "59899\n",
      "59899\n"
     ]
    }
   ],
   "source": [
    "texts = []\n",
    "labels = []\n",
    "\n",
    "texts = dataset['train']['text'] + dataset['test']['text'] + dataset['validation']['text']\n",
    "labels = dataset['train']['label'] + dataset['test']['label'] + dataset['validation']['label']\n",
    "\n",
    "print(len(texts))\n",
    "print(len(labels))"
   ]
  },
  {
   "cell_type": "code",
   "execution_count": 8,
   "id": "4ec6689c",
   "metadata": {},
   "outputs": [],
   "source": [
    "for index in range(len(texts)):\n",
    "    texts[index] = texts[index].replace('…','...')\n",
    "    texts[index] = texts[index].replace('\\n', ' ')"
   ]
  },
  {
   "cell_type": "code",
   "execution_count": 9,
   "id": "fc5356ca",
   "metadata": {},
   "outputs": [
    {
     "name": "stdout",
     "output_type": "stream",
     "text": [
      "59899\n",
      "\"QT @user In the original draft of the 7th book, Remus Lupin survived the Battle of Hogwarts. #HappyBirthdayRemusLupin\"\n",
      "2\n"
     ]
    }
   ],
   "source": [
    "temp = []\n",
    "\n",
    "for text, label in zip(texts, labels):\n",
    "    temp.append({'text' : text, 'label' : label})\n",
    "print(len(temp))\n",
    "print(temp[0]['text'])\n",
    "print(temp[0]['label'])"
   ]
  },
  {
   "cell_type": "code",
   "execution_count": 10,
   "id": "88a7dd37",
   "metadata": {
    "scrolled": true
   },
   "outputs": [
    {
     "name": "stdout",
     "output_type": "stream",
     "text": [
      "\" #Refugees should just go home to #Syria \" they said. #Aleppo\n",
      "1\n",
      "21011\n"
     ]
    }
   ],
   "source": [
    "sorted_dict = sorted(temp, key=(lambda x: x['text']))\n",
    "print(sorted_dict[3]['text'])\n",
    "print(sorted_dict[3]['label'])\n",
    "sorted_positive = [x['text'] for x in sorted_dict if x['label'] == 2 and x['text'] <= 'z']\n",
    "sorted_negative = [x['text'] for x in sorted_dict if x['label'] == 0 and x['text'] <= 'z']\n",
    "random_negative = sorted_negative.copy()\n",
    "random.shuffle(random_negative)\n",
    "random.shuffle(sorted_positive) # 주석해제시 랜덤하게 pair\n",
    "print(len(sorted_positive))"
   ]
  },
  {
   "cell_type": "code",
   "execution_count": null,
   "id": "9a5249b8",
   "metadata": {},
   "outputs": [],
   "source": []
  },
  {
   "cell_type": "code",
   "execution_count": 11,
   "id": "75188084",
   "metadata": {},
   "outputs": [
    {
     "name": "stdout",
     "output_type": "stream",
     "text": [
      "{'sent0': 'Good morning neighbors... Tomorrow  is National Hot Dog Day.  Here are some fun facts about hot dogs.  It is an...', 'sent1': 'honestly i will die if Briana gives birth on February 1st that would be the funniest thing ever', 'hard_neg': '.@ChiOnwurah @user #DoNoEvil @user @user is this why #publiceducation is made 2 FAIL by ALEC+GOP?'}\n"
     ]
    }
   ],
   "source": [
    "final_dataset = []\n",
    "index_2 = 0\n",
    "\n",
    "for index in range(0, len(sorted_positive) - 1, 2):\n",
    "    final_dataset.append({'sent0' : sorted_positive[index], 'sent1' : sorted_positive[index+1], 'hard_neg' : random_negative[index_2]})\n",
    "    index_2 += 1\n",
    "    \n",
    "random.shuffle(final_dataset)\n",
    "print(final_dataset[0])"
   ]
  },
  {
   "cell_type": "code",
   "execution_count": 12,
   "id": "5ae64fce",
   "metadata": {},
   "outputs": [
    {
     "name": "stdout",
     "output_type": "stream",
     "text": [
      "\"I love Israel and I will always support you, come what may.\n"
     ]
    }
   ],
   "source": [
    "print(final_dataset[7400]['sent0'])"
   ]
  },
  {
   "cell_type": "code",
   "execution_count": 13,
   "id": "3e823186",
   "metadata": {},
   "outputs": [],
   "source": [
    "import csv\n",
    "\n",
    "# with open('tweeteval_sentiment.csv','w') as f:\n",
    "#     w = csv.writer(f)\n",
    "#     w.writerow(final_dataset[0].keys())\n",
    "#     for i in range(len(finale_dataset)):\n",
    "#         w.writerow(final_dataset[i].values())\n",
    "        \n",
    "labels = ['sent0','sent1','hard_neg']\n",
    "try:\n",
    "    with open('tweeteval_sentiment.csv', 'w',newline='',encoding='utf-8') as f:\n",
    "        writer = csv.DictWriter(f, fieldnames=labels)\n",
    "        writer.writeheader()\n",
    "        for elem in final_dataset:\n",
    "            writer.writerow(elem)\n",
    "except IOError:\n",
    "    print(\"I/O error\")"
   ]
  }
 ],
 "metadata": {
  "kernelspec": {
   "display_name": "Python 3 (ipykernel)",
   "language": "python",
   "name": "python3"
  },
  "language_info": {
   "codemirror_mode": {
    "name": "ipython",
    "version": 3
   },
   "file_extension": ".py",
   "mimetype": "text/x-python",
   "name": "python",
   "nbconvert_exporter": "python",
   "pygments_lexer": "ipython3",
   "version": "3.8.3"
  }
 },
 "nbformat": 4,
 "nbformat_minor": 5
}
